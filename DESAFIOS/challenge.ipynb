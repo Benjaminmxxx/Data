{
 "cells": [
  {
   "cell_type": "markdown",
   "metadata": {},
   "source": [
    "DESAFIOS \n",
    "\n",
    "Buscar los 11 números consecutivos cuyo producto sea el de mayor valor."
   ]
  },
  {
   "cell_type": "code",
   "execution_count": 1,
   "metadata": {},
   "outputs": [],
   "source": [
    "a= '7326 2647 9781 9004 6834 6616 6262 3198 1148 5546 7224 9891 8417 2346 7401 1613 9453 3546 7123 5833 4647 6356 9603 8138 3553 2152 9861 2223 8217 2048 9251 2360 3983 7945 8818 9829 6319 7335 1521 2965 2971 3115 6742 2320 8222 3483 4552 9095 9391 8813 4088 9887 2201 5765 1727 4655 9890 8409 5351 5285 2861 7641 1567 3985 1722 3525 8024 9714 4719 7404 4302 8466 6168 6114 1734 8686 7551 6268 1917 3056 8903 8109 9663 8412 3573 8211 9977 4609 7468 9979 3476 4047 2629 3943 2386 7173 8721 5703 7286 1964 2024 7654 1916 8788 2878 3254 3726 6057 2771 5038 8785 3131 7635 1539 2375 3067 9645 4602 3482 7872 8205 7088 4855 2009 3595 6105 7148 2015 3877 5422 3648 2590 3376 3529 2929 4225 7767 5961 8933 7313 7913 5735 4442 2752 8379 3085 7748 4956 5552 7851 5494 9276 7117 1943 1473 6333 6453 3718 6194 9736 1517 4114 5218 9064 2364 4869 5152 2046 4858 8042 1877 7970 4501 5246 3021 8943 9133 7163 2397 3928 4098 2926 5091 9010 2328 1086 4019 2689 8342 6765 8558 3165 6282 6925 5747 3865 1378 7419 8581 5315 5108 2821 3233 4753 7403 6825 8512 9682 2469 7565 9445 5058 8783 8123 1483 7413 8798 9590 2621 7079 8225 7517 8865 2888 4645 1370 3705 9858 7269 2729 4131 9301 2278 9664 5316 1564 9894 7034 4026 8134 1959 4074 3656 9878'"
   ]
  },
  {
   "cell_type": "code",
   "execution_count": 2,
   "metadata": {},
   "outputs": [],
   "source": [
    "def normalizacion(lista):\n",
    "    x=lista.split()\n",
    "    Lista_Num=[]\n",
    "    for i in x:\n",
    "        Lista_Num.append(int(i))\n",
    "    return Lista_Num\n"
   ]
  },
  {
   "cell_type": "code",
   "execution_count": 3,
   "metadata": {},
   "outputs": [],
   "source": [
    "Lista_Num=normalizacion(a)"
   ]
  },
  {
   "cell_type": "code",
   "execution_count": 5,
   "metadata": {},
   "outputs": [],
   "source": [
    "#Opte por hacerlo sumando los elementos porque se me hizo mas fácil comprobarlo y pienso que necesita menos recursos\n",
    "#Y los que tengan el resultado mayor de la suma del conjunto,serán los mismos elementos que tengan el mayor\n",
    "# resultado al realizar su producto.\n",
    "\n",
    "def suma(lista):\n",
    "    ''' \n",
    "    Suma los elementos de una lista \n",
    "    '''\n",
    "    suma=0        \n",
    "    for i in lista: \n",
    "            suma+=i\n",
    "    return suma\n",
    "\n",
    "def mayor(lista):\n",
    "    ''' \n",
    "    Obtiene el valor maximo de una lista\n",
    "    ''' \n",
    "    max = lista[0]\n",
    "    for x in lista:\n",
    "        if x > max:\n",
    "            max = x\n",
    "    return max \n",
    "    \n",
    "def dreamteam(lista):\n",
    "    i=0 \n",
    "    j=11\n",
    "    ListaSumas=[] #Lista de resultados de la suma de todos los conjuntos de 11 numeros en la lista que le pasa la funcion \n",
    "    Aux=(len(lista)-11)  \n",
    "    while Aux>0: #El ciclo debe repetirse la longitud de la lista - 11\n",
    "        ListaSumas.append(suma(lista[i:j])) #Se llena la lista axuliar de sumas \n",
    "        i+=1\n",
    "        j+=1\n",
    "        Aux-=1\n",
    "    \n",
    "    #Llenada la lista de sumas, al obtener el valor máximo, su indice representará el número de iteración del ciclo \n",
    "    #Y ese número representa el indice del primer elemento del conjunto de los 11 números que conforman la lista\n",
    "\n",
    "    return lista[ListaSumas.index(mayor(ListaSumas)):(ListaSumas.index(mayor(ListaSumas))+11)] #,mayor(ListaSumas) \n"
   ]
  },
  {
   "cell_type": "code",
   "execution_count": 125,
   "metadata": {},
   "outputs": [
    {
     "data": {
      "text/plain": [
       "[8903, 8109, 9663, 8412, 3573, 8211, 9977, 4609, 7468, 9979, 3476]"
      ]
     },
     "execution_count": 125,
     "metadata": {},
     "output_type": "execute_result"
    }
   ],
   "source": [
    "dreamteam(Lista_Num)"
   ]
  },
  {
   "cell_type": "code",
   "execution_count": 126,
   "metadata": {},
   "outputs": [],
   "source": [
    "def multiplicar_lista(lista):\n",
    "    producto=1\n",
    "    for numero in lista:\n",
    "        producto*=numero\n",
    "    return producto"
   ]
  },
  {
   "cell_type": "code",
   "execution_count": 127,
   "metadata": {},
   "outputs": [
    {
     "data": {
      "text/plain": [
       "2050792713438969251364675963277181362721856"
      ]
     },
     "execution_count": 127,
     "metadata": {},
     "output_type": "execute_result"
    }
   ],
   "source": [
    "multiplicar_lista(dreamteam(Lista_Num))"
   ]
  }
 ],
 "metadata": {
  "kernelspec": {
   "display_name": "Python 3.8.3 64-bit",
   "language": "python",
   "name": "python3"
  },
  "language_info": {
   "codemirror_mode": {
    "name": "ipython",
    "version": 3
   },
   "file_extension": ".py",
   "mimetype": "text/x-python",
   "name": "python",
   "nbconvert_exporter": "python",
   "pygments_lexer": "ipython3",
   "version": "3.8.3"
  },
  "orig_nbformat": 4,
  "vscode": {
   "interpreter": {
    "hash": "aee8b7b246df8f9039afb4144a1f6fd8d2ca17a180786b69acc140d282b71a49"
   }
  }
 },
 "nbformat": 4,
 "nbformat_minor": 2
}
