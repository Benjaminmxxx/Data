{
 "cells": [
  {
   "cell_type": "markdown",
   "metadata": {},
   "source": [
    "Un experimento consta de tres pasos; para el primer paso hay tres resultados posibles, para el segundo hay dos resultados posibles y para el tercer paso hay cuatro resultados posibles. ¿Cuántos resultados distintos hay para el experimento completo?"
   ]
  },
  {
   "cell_type": "markdown",
   "metadata": {},
   "source": [
    "(1) POSIBLES RESULTADOS:\n",
    "(A)---(1) ----(1)\n",
    "   ---(2) ----(2)\n",
    "          ----(3)\n",
    "          ----(4)   (8 Diferentes posibilidades para el 1er caso)\n",
    "\n",
    "(B)---(1) ----(1)\n",
    "    ---(2) ----(2)\n",
    "           ----(3)\n",
    "           ----(4)  (8 Diferentes posibilidades para el 2do caso)\n",
    "\n",
    "(C)---(1)   ----(1)\n",
    "    ---(2)  ----(2)\n",
    "            ----(3)\n",
    "            ----(4) (8 Diferentes posibilidades para el 3er caso)"
   ]
  },
  {
   "cell_type": "code",
   "execution_count": 1,
   "metadata": {},
   "outputs": [
    {
     "data": {
      "text/plain": [
       "24"
      ]
     },
     "execution_count": 1,
     "metadata": {},
     "output_type": "execute_result"
    }
   ],
   "source": [
    "A=3\n",
    "B=2\n",
    "C=4\n",
    "T=A*B*C\n",
    "T"
   ]
  },
  {
   "cell_type": "markdown",
   "metadata": {},
   "source": [
    "¿De cuántas maneras es posible seleccionar tres objetos de un conjunto de seis objetos? Use las letras A, B, C, D, E y F para identificar a los objetos y enumere todas las combinaciones diferentes de tres objetos."
   ]
  },
  {
   "cell_type": "code",
   "execution_count": 2,
   "metadata": {},
   "outputs": [],
   "source": [
    "def factorial(n):\n",
    "    if n<=1:\n",
    "         T=1\n",
    "    else:\n",
    "        T=n*factorial(n-1)\n",
    "    return T"
   ]
  },
  {
   "cell_type": "code",
   "execution_count": 9,
   "metadata": {},
   "outputs": [],
   "source": [
    "def combinaciones(N,k): \n",
    "    '''\n",
    "    Las combinaciones son agrupaciones en las que el contenido \n",
    "    importa pero el orden no.\n",
    "    \n",
    "    '''\n",
    "    return int(factorial(N)/(factorial(N-k)*factorial(k)))"
   ]
  },
  {
   "cell_type": "code",
   "execution_count": 10,
   "metadata": {},
   "outputs": [
    {
     "data": {
      "text/plain": [
       "20"
      ]
     },
     "execution_count": 10,
     "metadata": {},
     "output_type": "execute_result"
    }
   ],
   "source": [
    "combinaciones(6,3)"
   ]
  },
  {
   "cell_type": "markdown",
   "metadata": {},
   "source": [
    "¿Cuántas permutaciones de tres objetos se pueden seleccionar de un grupo de seis objetos? Use las letras A, B, C, D, E y F para identificar a los objetos y enumere cada una de las permutaciones factibles para los objetos B, D y F."
   ]
  },
  {
   "cell_type": "code",
   "execution_count": 7,
   "metadata": {},
   "outputs": [],
   "source": [
    "def permutaciones(N,n): \n",
    "    '''Orden de selección es relevante. Los mismos n objetos seleccionados \n",
    "       en orden diferente se consideran un resultado experimental diferente.''' \n",
    "    return factorial(N)/factorial(N-n)"
   ]
  },
  {
   "cell_type": "code",
   "execution_count": 8,
   "metadata": {},
   "outputs": [
    {
     "data": {
      "text/plain": [
       "120.0"
      ]
     },
     "execution_count": 8,
     "metadata": {},
     "output_type": "execute_result"
    }
   ],
   "source": [
    "permutaciones(6,3)"
   ]
  },
  {
   "cell_type": "markdown",
   "metadata": {},
   "source": [
    "Suponga que un experimento tiene cinco resultados igualmente posibles: E1, E2, E3, E4 y E5. Asigne probabilidades a los resultados y muestre que satisfacen los requerimientos expresados por las ecuaciones (4.3) y (4.4). ¿Qué método empleó?"
   ]
  },
  {
   "cell_type": "code",
   "execution_count": 11,
   "metadata": {},
   "outputs": [
    {
     "data": {
      "text/plain": [
       "1.0"
      ]
     },
     "execution_count": 11,
     "metadata": {},
     "output_type": "execute_result"
    }
   ],
   "source": [
    "E1=1/5\n",
    "E2=1/5\n",
    "E3=1/5\n",
    "E4=1/5\n",
    "E5=1/5 \n",
    "T=E1+E2+E3+E4+E5\n",
    "T #Se empleo el método de Método Clásico "
   ]
  },
  {
   "cell_type": "markdown",
   "metadata": {},
   "source": [
    "Un experimento que tiene tres resultados es repetido 50 veces y se ve que E1 aparece 20 veces, E2 13 veces y E3 17 veces. Asigne probabilidades a los resultados. ¿Qué método empleó?"
   ]
  },
  {
   "cell_type": "code",
   "execution_count": 17,
   "metadata": {},
   "outputs": [
    {
     "data": {
      "text/plain": [
       "1.0"
      ]
     },
     "execution_count": 17,
     "metadata": {},
     "output_type": "execute_result"
    }
   ],
   "source": [
    "E1=20/50\n",
    "E2=13/50\n",
    "E3=17/50\n",
    "T=E1+E2+E3\n",
    "T  #Se empleo el método de frecuencía relativa"
   ]
  },
  {
   "cell_type": "markdown",
   "metadata": {},
   "source": [
    "La persona que toma las decisiones asigna las probabilidades siguientes a los cuatro resultados de un experimento: P(E1)   0.10, P(E2)   0.15, P(E3)   0.40 y P(E4)   0.20. ¿Son válidas estas asignaciones de probabilidades? Argumente."
   ]
  },
  {
   "cell_type": "code",
   "execution_count": 12,
   "metadata": {},
   "outputs": [
    {
     "data": {
      "text/plain": [
       "0.8500000000000001"
      ]
     },
     "execution_count": 12,
     "metadata": {},
     "output_type": "execute_result"
    }
   ],
   "source": [
    "E1=0.10\n",
    "E2=0.15 \n",
    "E3=0.40 \n",
    "E4=0.20\n",
    "T=E1+E2+E3+E4\n",
    "T #No es valido de acuerdo a los requerimientos básicos para la asignación de probabilidades"
   ]
  },
  {
   "cell_type": "markdown",
   "metadata": {},
   "source": [
    "En una ciudad las solicitudes de cambio de uso de suelo pasan por un proceso de dos pasos: una revisión por la comisión de planeación y la decisión final tomada por el consejo de la ciudad. En el paso 1 la comisión de planeación revisa la solicitud de cambio de uso de suelo y hace una recomendación positiva o negativa respecto al cambio. En el paso 2 el consejo de la ciudad revisa la recomendación hecha por la comisión de planeación y vota para aprobar o desaprobar el cambio de suelo. Suponga que una empresa dedicada a la construcción de complejos departamentales presenta una solicitud de cambio de uso de suelo. Considere el proceso de la solicitud como un experimento. ¿Cuántos puntos muestrales tiene este experimento? Enumérelos. Construya el diagrama de árbol del experimento."
   ]
  },
  {
   "cell_type": "code",
   "execution_count": 15,
   "metadata": {},
   "outputs": [],
   "source": [
    "#---> P1=(SI,NO) \n",
    "#---> P2=(SI,NO)\n",
    "\n",
    "#---> P1(SI) ---> P2(SI)\n",
    "        #    ---> P2(NO)\n",
    "\n",
    "#---> P1(NO) ---> P2(SI)\n",
    "        #    ---> P2(NO)     "
   ]
  },
  {
   "cell_type": "markdown",
   "metadata": {},
   "source": [
    "El muestreo aleatorio simple usa una muestra de tamaño n tomada de una población de tamaño\n",
    "N para obtener datos para hacer inferencias acerca de las características de la población. Suponga que, de una población de 50 cuentas bancarias, desea tomar una muestra de cuatro cuentas con objeto de tener información acerca de la población. ¿Cuantas muestras diferentes de cuatro cuentas pueden obtener?"
   ]
  },
  {
   "cell_type": "code",
   "execution_count": 16,
   "metadata": {},
   "outputs": [
    {
     "data": {
      "text/plain": [
       "230300"
      ]
     },
     "execution_count": 16,
     "metadata": {},
     "output_type": "execute_result"
    }
   ],
   "source": [
    "combinaciones(50,4)"
   ]
  },
  {
   "cell_type": "markdown",
   "metadata": {},
   "source": [
    "El capital de riesgo es una fuerte ayuda para los fondos disponibles de las empresas. De acuerdo con Venture Economics (Investor’s Business Daily, 28 de abril de 2000) de 2374 desembolsos en capital de riesgo, 1434 son de empresas en California, 390 de empresas en Massachussets, 217 de empresas en Nueva York y 112 de empresas en Colorado. Veintidós por ciento de las empresas que reciben fondos se encuentran en las etapas iniciales de desarrollo y 55% en la etapa de expansión. Suponga que desea tomar en forma aleatoria una de estas empresas para saber cómo son usados los fondos de capital de riesgo."
   ]
  },
  {
   "cell_type": "code",
   "execution_count": 18,
   "metadata": {},
   "outputs": [],
   "source": [
    "import pandas as pd"
   ]
  },
  {
   "cell_type": "code",
   "execution_count": 23,
   "metadata": {},
   "outputs": [
    {
     "name": "stdout",
     "output_type": "stream",
     "text": [
      "Probabilidad que la empresa sea de California: 0.6040438079191238\n",
      "Probabilidad que la empresa sea de Massachussets, Nueva York o Colorado : 0.09309182813816344\n",
      "Que no este en etapa inicial, ni en desarrollo 0.78\n",
      "Número de empresas que se les inyecta capital para desarrollo en Massachussets:  85.8\n",
      "La inversión total fue de 32.4 M, por lo que a Colorado se le invirtio: 1.5285593934288122\n"
     ]
    }
   ],
   "source": [
    "#a. ¿Cuál es la probabilidad de que la empresa que seleccione sea de California?\n",
    "Cali=1434\n",
    "T=2374\n",
    "print(\"Probabilidad que la empresa sea de California:\",Cali/T)\n",
    "#b. ¿De que la empresa no sea de ninguno de los estados citados?\n",
    "Otros=221\n",
    "print(\"Probabilidad que la empresa sea de Massachussets, Nueva York o Colorado :\", Otros/T)\n",
    "#c. ¿De que la empresa elegida no se encuentre en las etapas iniciales de desarrollo?\n",
    "#22% EI y 55% EE\n",
    "R=(1-0.22-0.55)\n",
    "print(\"Que no este en etapa inicial, ni en desarrollo\",0.55+R)\n",
    "#d.Si admite que las empresas en las etapas iniciales de desarrollo tuvieran una distribución\n",
    "#homogénea en todo el país, ¿cuántas empresas de Massachussets que reciben fondos de capital \n",
    "#de riesgo se encuentran en las etapas iniciales de desarrollo?\n",
    "Mass=390*0.22\n",
    "print('Número de empresas que se les inyecta capital para desarrollo en Massachussets: ',Mass)\n",
    "#e. La cantidad total de fondos invertidos es $32.4 mil millones. Estime la cantidad destinada\n",
    "#a Colorado.\n",
    "Col=112/T\n",
    "MonCol=Col*32.4\n",
    "print('La inversión total fue de 32.4 M, por lo que a Colorado se le invirtio:',MonCol)"
   ]
  },
  {
   "cell_type": "markdown",
   "metadata": {},
   "source": [
    "En Estados Unidos hay una lotería que se juega dos veces por semana en 28 estados, en las Islas Vírgenes y en el Distrito de Columbia. Para jugar, debe comprar un billete y seleccionar cinco números del 1 al 55 y un número del 1 al 42. Para determinar al ganador se sacan 5 bolas blancas entre 55 bolas blancas y una bola roja entre 42 bolas rojas. Quien atine a los cinco números de bolas blancas y al número de la bola roja es el ganador. Ocho trabajadores de una empresa tienen el récord del mayor premio, ganaron $365 millones al atinarle a los números 15-17-43-44-49 de las bolas blancas y al 29 de las bolas rojas. En cada juego hay también otros premios. Por ejemplo, quien atina a los cinco números de las bolas blancas se lleva un premio de $200 000 (www.powerball.com, 19 de marzo de 2006)."
   ]
  },
  {
   "cell_type": "code",
   "execution_count": 25,
   "metadata": {},
   "outputs": [
    {
     "name": "stdout",
     "output_type": "stream",
     "text": [
      "3478761\n",
      "2.874586670369134e-07\n",
      "6.844253977069367e-09\n"
     ]
    }
   ],
   "source": [
    "#a. ¿De cuántas maneras se pueden seleccionar los primeros cinco números?\n",
    "print(combinaciones(55,5))\n",
    "\n",
    "#b. ¿Cuál es la probabilidad de ganar los $200 000 atinándole a los cinco números de bolas\n",
    "#blancas?\n",
    "\n",
    "print(1/combinaciones(55,5)) #1 posibilidad entre las posibles selecciones de los 5 números\n",
    "\n",
    "#c. ¿Cuál es la probabilidad de atinarle a todos los números y ganar el premio mayor?\n",
    "TP=(1/combinaciones(55,5))*(1/combinaciones(42,1))\n",
    "print(TP)"
   ]
  },
  {
   "cell_type": "markdown",
   "metadata": {},
   "source": [
    "Una empresa que produce pasta de dientes está analizando el diseño de cinco empaques diferentes.\n",
    "Suponiendo que existe la misma posibilidad de que los clientes elijan cualquiera de los empaques, ¿cuál es la probabilidad de selección que se le asignaría a cada diseño de empaque? En un estudio, se pidió a 100 consumidores que escogieran el diseño que más les gustara. Los resultados\n",
    "se muestran en la tabla siguiente. "
   ]
  },
  {
   "cell_type": "code",
   "execution_count": 26,
   "metadata": {},
   "outputs": [],
   "source": [
    "import pandas as pd"
   ]
  },
  {
   "cell_type": "code",
   "execution_count": 27,
   "metadata": {},
   "outputs": [
    {
     "data": {
      "text/html": [
       "<div>\n",
       "<style scoped>\n",
       "    .dataframe tbody tr th:only-of-type {\n",
       "        vertical-align: middle;\n",
       "    }\n",
       "\n",
       "    .dataframe tbody tr th {\n",
       "        vertical-align: top;\n",
       "    }\n",
       "\n",
       "    .dataframe thead th {\n",
       "        text-align: right;\n",
       "    }\n",
       "</style>\n",
       "<table border=\"1\" class=\"dataframe\">\n",
       "  <thead>\n",
       "    <tr style=\"text-align: right;\">\n",
       "      <th></th>\n",
       "      <th>Diseño</th>\n",
       "      <th>Número de veces fue elegido</th>\n",
       "    </tr>\n",
       "  </thead>\n",
       "  <tbody>\n",
       "    <tr>\n",
       "      <th>0</th>\n",
       "      <td>1</td>\n",
       "      <td>5</td>\n",
       "    </tr>\n",
       "    <tr>\n",
       "      <th>1</th>\n",
       "      <td>2</td>\n",
       "      <td>15</td>\n",
       "    </tr>\n",
       "    <tr>\n",
       "      <th>2</th>\n",
       "      <td>3</td>\n",
       "      <td>30</td>\n",
       "    </tr>\n",
       "    <tr>\n",
       "      <th>3</th>\n",
       "      <td>4</td>\n",
       "      <td>40</td>\n",
       "    </tr>\n",
       "    <tr>\n",
       "      <th>4</th>\n",
       "      <td>5</td>\n",
       "      <td>10</td>\n",
       "    </tr>\n",
       "  </tbody>\n",
       "</table>\n",
       "</div>"
      ],
      "text/plain": [
       "   Diseño  Número de veces fue elegido\n",
       "0       1                            5\n",
       "1       2                           15\n",
       "2       3                           30\n",
       "3       4                           40\n",
       "4       5                           10"
      ]
     },
     "execution_count": 27,
     "metadata": {},
     "output_type": "execute_result"
    }
   ],
   "source": [
    "DiseñoEmpaques={'Diseño':[1,2,3,4,5],\n",
    "                'Número de veces fue elegido':[5,15,30,40,10]}\n",
    "df=pd.DataFrame(DiseñoEmpaques)\n",
    "df"
   ]
  },
  {
   "cell_type": "code",
   "execution_count": 28,
   "metadata": {},
   "outputs": [
    {
     "name": "stdout",
     "output_type": "stream",
     "text": [
      "0.2\n"
     ]
    }
   ],
   "source": [
    "#¿cuál es la probabilidad de selección que se le asignaría a cada diseño de empaque?\n",
    "print(1/5)"
   ]
  }
 ],
 "metadata": {
  "kernelspec": {
   "display_name": "Python 3.8.3 64-bit",
   "language": "python",
   "name": "python3"
  },
  "language_info": {
   "codemirror_mode": {
    "name": "ipython",
    "version": 3
   },
   "file_extension": ".py",
   "mimetype": "text/x-python",
   "name": "python",
   "nbconvert_exporter": "python",
   "pygments_lexer": "ipython3",
   "version": "3.8.3"
  },
  "orig_nbformat": 4,
  "vscode": {
   "interpreter": {
    "hash": "aee8b7b246df8f9039afb4144a1f6fd8d2ca17a180786b69acc140d282b71a49"
   }
  }
 },
 "nbformat": 4,
 "nbformat_minor": 2
}
