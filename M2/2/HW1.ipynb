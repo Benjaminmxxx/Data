{
 "cells": [
  {
   "cell_type": "markdown",
   "id": "e7bac9ff",
   "metadata": {},
   "source": [
    "# Homework\n",
    "\n",
    "Utilizando Python cálcular las siguientes probabilidades. Para cada uno intenta determinar que método aplicaste."
   ]
  },
  {
   "cell_type": "code",
   "execution_count": 1,
   "id": "c7813935",
   "metadata": {},
   "outputs": [],
   "source": [
    "import numpy as np\n",
    "import pandas as pd"
   ]
  },
  {
   "cell_type": "code",
   "execution_count": 2,
   "id": "3e1ca49b",
   "metadata": {},
   "outputs": [],
   "source": [
    "def factorial(numero):\n",
    "    if numero <= 1:\n",
    "        return 1\n",
    "    else:\n",
    "        return numero * factorial(numero-1)"
   ]
  },
  {
   "cell_type": "code",
   "execution_count": 3,
   "id": "5400ef94",
   "metadata": {},
   "outputs": [
    {
     "data": {
      "text/plain": [
       "120"
      ]
     },
     "execution_count": 3,
     "metadata": {},
     "output_type": "execute_result"
    }
   ],
   "source": [
    "factorial(5) #Prueba"
   ]
  },
  {
   "cell_type": "code",
   "execution_count": 4,
   "id": "bae398e3",
   "metadata": {},
   "outputs": [
    {
     "data": {
      "text/plain": [
       "120"
      ]
     },
     "execution_count": 4,
     "metadata": {},
     "output_type": "execute_result"
    }
   ],
   "source": [
    "np.math.factorial(5) #Factorial con Numpy"
   ]
  },
  {
   "cell_type": "markdown",
   "id": "cbb0ef79",
   "metadata": {},
   "source": [
    "### EXPERIMENTOS DE PASOS MULTIPLES"
   ]
  },
  {
   "cell_type": "markdown",
   "id": "6fe93c79",
   "metadata": {},
   "source": [
    "1. Lanza una moneda al aire 10 veces, ¿cuantos resultados posibles forman parte del espacio muestral?."
   ]
  },
  {
   "cell_type": "code",
   "execution_count": 6,
   "id": "b0606420",
   "metadata": {},
   "outputs": [
    {
     "data": {
      "text/plain": [
       "1024"
      ]
     },
     "execution_count": 6,
     "metadata": {},
     "output_type": "execute_result"
    }
   ],
   "source": [
    "#2**10 #Todas las secuencías posibles del experimiento \n",
    "\n",
    "pow(2,10)"
   ]
  },
  {
   "cell_type": "markdown",
   "id": "4ccfbaa7",
   "metadata": {},
   "source": [
    "2. En un aeropuerto se tiene a 10 pasajeros esperando en la sala de preembarque, la polícia debe controlar a 3 de ellos. ¿Cuantas combinaciones posibles se pueden obtener?."
   ]
  },
  {
   "cell_type": "code",
   "execution_count": 7,
   "id": "5a3577f4",
   "metadata": {},
   "outputs": [],
   "source": [
    "def combinaciones(N,k): #EL ORDEN NO ES RELEVANTE\n",
    "    ''' \n",
    "    Regla de conteo para combinaciones\n",
    "    '''\n",
    "    return int(factorial(N)/(factorial(N-k)*factorial(k)))\n"
   ]
  },
  {
   "cell_type": "code",
   "execution_count": 8,
   "id": "8b4cd013",
   "metadata": {},
   "outputs": [
    {
     "data": {
      "text/plain": [
       "120"
      ]
     },
     "execution_count": 8,
     "metadata": {},
     "output_type": "execute_result"
    }
   ],
   "source": [
    "combinaciones(10,3)"
   ]
  },
  {
   "cell_type": "markdown",
   "id": "03c09d3a",
   "metadata": {},
   "source": [
    "3.La Agencia Nacional de Seguridad Vial realizó una investigación para saber si los conductores están usando sus cinturones de seguridad. Los datos muestrales fueron los siguientes:\n",
    "\n",
    "a) ¿Qué metodo cree que se utilizo para asignar probabilidades?.\n",
    "R.- Se utlizó el metodo frecuentista."
   ]
  },
  {
   "cell_type": "markdown",
   "id": "edeed3df",
   "metadata": {},
   "source": [
    "b) Construya un cuadro similar, pero con la asignación de probabilidades."
   ]
  },
  {
   "cell_type": "code",
   "execution_count": 9,
   "id": "061e5f42",
   "metadata": {},
   "outputs": [
    {
     "data": {
      "text/html": [
       "<div>\n",
       "<style scoped>\n",
       "    .dataframe tbody tr th:only-of-type {\n",
       "        vertical-align: middle;\n",
       "    }\n",
       "\n",
       "    .dataframe tbody tr th {\n",
       "        vertical-align: top;\n",
       "    }\n",
       "\n",
       "    .dataframe thead th {\n",
       "        text-align: right;\n",
       "    }\n",
       "</style>\n",
       "<table border=\"1\" class=\"dataframe\">\n",
       "  <thead>\n",
       "    <tr style=\"text-align: right;\">\n",
       "      <th></th>\n",
       "      <th>si</th>\n",
       "      <th>no</th>\n",
       "    </tr>\n",
       "  </thead>\n",
       "  <tbody>\n",
       "    <tr>\n",
       "      <th>Norte</th>\n",
       "      <td>148</td>\n",
       "      <td>52</td>\n",
       "    </tr>\n",
       "    <tr>\n",
       "      <th>Noreste</th>\n",
       "      <td>162</td>\n",
       "      <td>54</td>\n",
       "    </tr>\n",
       "    <tr>\n",
       "      <th>Sur</th>\n",
       "      <td>296</td>\n",
       "      <td>74</td>\n",
       "    </tr>\n",
       "    <tr>\n",
       "      <th>Centro</th>\n",
       "      <td>252</td>\n",
       "      <td>48</td>\n",
       "    </tr>\n",
       "  </tbody>\n",
       "</table>\n",
       "</div>"
      ],
      "text/plain": [
       "          si  no\n",
       "Norte    148  52\n",
       "Noreste  162  54\n",
       "Sur      296  74\n",
       "Centro   252  48"
      ]
     },
     "execution_count": 9,
     "metadata": {},
     "output_type": "execute_result"
    }
   ],
   "source": [
    "tabla=pd.DataFrame({'si':[148, 162, 296, 252],\n",
    "                    'no':[52, 54, 74, 48]})\n",
    "index_=['Norte','Noreste','Sur','Centro']\n",
    "tabla.index=index_\n",
    "\n",
    "tabla #DF ORIGINAL"
   ]
  },
  {
   "cell_type": "code",
   "execution_count": 29,
   "id": "e5f6faa1",
   "metadata": {},
   "outputs": [
    {
     "data": {
      "text/html": [
       "<div>\n",
       "<style scoped>\n",
       "    .dataframe tbody tr th:only-of-type {\n",
       "        vertical-align: middle;\n",
       "    }\n",
       "\n",
       "    .dataframe tbody tr th {\n",
       "        vertical-align: top;\n",
       "    }\n",
       "\n",
       "    .dataframe thead th {\n",
       "        text-align: right;\n",
       "    }\n",
       "</style>\n",
       "<table border=\"1\" class=\"dataframe\">\n",
       "  <thead>\n",
       "    <tr style=\"text-align: right;\">\n",
       "      <th></th>\n",
       "      <th>si</th>\n",
       "      <th>no</th>\n",
       "      <th>Total</th>\n",
       "    </tr>\n",
       "  </thead>\n",
       "  <tbody>\n",
       "    <tr>\n",
       "      <th>Norte</th>\n",
       "      <td>0.136280</td>\n",
       "      <td>0.047882</td>\n",
       "      <td>0.184162</td>\n",
       "    </tr>\n",
       "    <tr>\n",
       "      <th>Noreste</th>\n",
       "      <td>0.149171</td>\n",
       "      <td>0.049724</td>\n",
       "      <td>0.198895</td>\n",
       "    </tr>\n",
       "    <tr>\n",
       "      <th>Sur</th>\n",
       "      <td>0.272560</td>\n",
       "      <td>0.068140</td>\n",
       "      <td>0.340700</td>\n",
       "    </tr>\n",
       "    <tr>\n",
       "      <th>Centro</th>\n",
       "      <td>0.232044</td>\n",
       "      <td>0.044199</td>\n",
       "      <td>0.276243</td>\n",
       "    </tr>\n",
       "    <tr>\n",
       "      <th>TotalT</th>\n",
       "      <td>0.790055</td>\n",
       "      <td>0.209945</td>\n",
       "      <td>1.000000</td>\n",
       "    </tr>\n",
       "  </tbody>\n",
       "</table>\n",
       "</div>"
      ],
      "text/plain": [
       "               si        no     Total\n",
       "Norte    0.136280  0.047882  0.184162\n",
       "Noreste  0.149171  0.049724  0.198895\n",
       "Sur      0.272560  0.068140  0.340700\n",
       "Centro   0.232044  0.044199  0.276243\n",
       "TotalT   0.790055  0.209945  1.000000"
      ]
     },
     "execution_count": 29,
     "metadata": {},
     "output_type": "execute_result"
    }
   ],
   "source": [
    "tabla_p=tabla.apply(lambda x: x/(tabla['si']+tabla['no']).sum())\n",
    "tabla_p['Total']=tabla_p['si']+tabla_p['no']\n",
    "#tabla_p=tabla_p.rename(index={5: 'Total'}) No funciona\n",
    "tabla_p.loc['TotalT']=(sum(tabla_p['si']),sum(tabla_p['no']),sum(tabla_p['Total']))\n",
    "tabla_p"
   ]
  },
  {
   "cell_type": "markdown",
   "id": "4227897e",
   "metadata": {},
   "source": [
    "c) ¿Cuál sería el mejor método pára estimar la probabilidad de que en Estados Unidos un conductor lleve puesto el cinturón?."
   ]
  },
  {
   "cell_type": "code",
   "execution_count": 100,
   "id": "8364dd28",
   "metadata": {},
   "outputs": [
    {
     "data": {
      "text/plain": [
       "0.79"
      ]
     },
     "execution_count": 100,
     "metadata": {},
     "output_type": "execute_result"
    }
   ],
   "source": [
    "USA_pwbelt=(tabla_p['si'].sum()/(tabla_p['si'].sum()+tabla_p['no'].sum()))\n",
    "round(USA_pwbelt,2)"
   ]
  },
  {
   "cell_type": "markdown",
   "id": "0baa4d80",
   "metadata": {},
   "source": [
    "d) Un año antes, la probabilidad en Argentina de que un conductor llevara puesto el cinturón era 0.75. El director de ANSV, se esperaba que la probabilidad llegara a 0.78. ¿Estará satisfecho con los resultados del estudio? \n",
    "    \n",
    "    El director está satisfecho porque la probabilidad de que sí se usa el cinturón es de 0.79\n",
    "    Se usa más en la región sur, con probabilidad 0.27\n"
   ]
  },
  {
   "cell_type": "markdown",
   "id": "a506f6a1",
   "metadata": {},
   "source": [
    "e) ¿Cuál es la probabilidad de que se use el cinturón en las distintas regiones del país? ¿En qué región se usa más el cinturón?(Utilizar misma tabla que el ejercicio anterior).\n",
    "\n",
    "    EN EL CENTRO"
   ]
  },
  {
   "cell_type": "markdown",
   "id": "22e8eedb",
   "metadata": {},
   "source": [
    "4. Crear una funcion que permita calcular a probabilidad de los siguientes eventos en un baraja de 52 cartas.\n",
    "    - Obtener una carta roja. (26 rojas)\n",
    "    - Obtener una carta negra.(26 negras)\n",
    "    - Obtener una pica. (13)\n",
    "    - Obtener un trébol. (13)\n",
    "    - Obtener un corazón. (13)\n",
    "    - Obtener un diamante. (13)"
   ]
  },
  {
   "cell_type": "code",
   "execution_count": 34,
   "id": "d7c7dd8b",
   "metadata": {},
   "outputs": [],
   "source": [
    "def Proba(CF,CP): #CF: Casos Favorables y CP: Casos posibles\n",
    "     return CF/CP"
   ]
  },
  {
   "cell_type": "code",
   "execution_count": 35,
   "id": "bc338583",
   "metadata": {},
   "outputs": [],
   "source": [
    "def Baraja_Inglesa(n=str):\n",
    "    CR_CN=26 #CASOS FAVORABLES\n",
    "    PTCD=13 #CASOS FAVORABLES\n",
    "    CP=52\n",
    "    \n",
    "    if n =='roja' or n=='negra':\n",
    "        return Proba(CR_CN,CP)\n",
    "    else:\n",
    "        return Proba(PTCD,CP)\n",
    "        "
   ]
  },
  {
   "cell_type": "code",
   "execution_count": 43,
   "id": "16808e9c",
   "metadata": {},
   "outputs": [],
   "source": [
    "#OTRA FUNCIÓN\n",
    "def probabilidadNaipes(categoria):\n",
    "   cartas_totales = 52\n",
    "   cartas_color = 26\n",
    "   cartas_palo = 13\n",
    "   if categoria == 'rojo' or categoria == 'negro':\n",
    "      return cartas_color / cartas_totales\n",
    "   elif categoria in ('pica', 'trebol', 'corazon', 'diamante'):\n",
    "      return cartas_palo / cartas_totales"
   ]
  },
  {
   "cell_type": "code",
   "execution_count": 45,
   "id": "7703bfa5",
   "metadata": {},
   "outputs": [
    {
     "name": "stdout",
     "output_type": "stream",
     "text": [
      "0.5\n",
      "0.5\n",
      "0.25\n",
      "0.25\n",
      "0.25\n",
      "0.25\n"
     ]
    }
   ],
   "source": [
    "print(Baraja_Inglesa('roja'))\n",
    "print(Baraja_Inglesa('negra'))\n",
    "print(Baraja_Inglesa('pica'))\n",
    "print(Baraja_Inglesa('trebol'))\n",
    "print(Baraja_Inglesa('corazon'))\n",
    "print(Baraja_Inglesa('diamante'))"
   ]
  },
  {
   "cell_type": "markdown",
   "id": "378bd471",
   "metadata": {},
   "source": [
    "5. La probabilidad de que salga un 7 o un 8 al seleccionar una carta de una baraja de las 52 cartas que contiene el mazo."
   ]
  },
  {
   "cell_type": "code",
   "execution_count": 41,
   "id": "3a9dc8bb",
   "metadata": {},
   "outputs": [
    {
     "data": {
      "text/plain": [
       "0.15384615384615385"
      ]
     },
     "execution_count": 41,
     "metadata": {},
     "output_type": "execute_result"
    }
   ],
   "source": [
    "Proba(4,52) + Proba(4,52)"
   ]
  },
  {
   "cell_type": "markdown",
   "id": "545d9967",
   "metadata": {},
   "source": [
    "6. La probabilidad de que tu país gane el mundial de fútbol."
   ]
  },
  {
   "cell_type": "code",
   "execution_count": 42,
   "id": "79ab4d5a",
   "metadata": {},
   "outputs": [
    {
     "data": {
      "text/plain": [
       "0.03125"
      ]
     },
     "execution_count": 42,
     "metadata": {},
     "output_type": "execute_result"
    }
   ],
   "source": [
    "Proba(1,32)"
   ]
  },
  {
   "cell_type": "markdown",
   "id": "b144041f",
   "metadata": {},
   "source": [
    "7. Un experimento que tiene tres resultados es repetido 50 veces y se ve que E1 aparece 20 veces, E2 13 veces y E3 17 veces. Asigne probabilidades a los resultados."
   ]
  },
  {
   "cell_type": "code",
   "execution_count": 46,
   "id": "d62f5fb4",
   "metadata": {},
   "outputs": [
    {
     "name": "stdout",
     "output_type": "stream",
     "text": [
      "E1 es probrable que salgo de nuevo en un 40.0 %\n",
      "E2 es probrable que salgo de nuevo en un 26.0 %\n",
      "E3 es probrable que salgo de nuevo en un 34.0 %\n"
     ]
    }
   ],
   "source": [
    "'''Función usada '''\n",
    "#def Proba(CF,CP): #CF: Casos Favorables y CP: Casos posibles\n",
    "     #return CF/CP\n",
    "\n",
    "print('E1 es probrable que salgo de nuevo en un {} %'.format(Proba(20,50)*100))\n",
    "print('E2 es probrable que salgo de nuevo en un {} %'.format(Proba(13,50)*100))\n",
    "print('E3 es probrable que salgo de nuevo en un {} %'.format(Proba(17,50)*100))\n"
   ]
  },
  {
   "cell_type": "markdown",
   "id": "e7a4bc0f",
   "metadata": {},
   "source": [
    "##### Desafíos complementarios\n",
    "\n",
    "Investiga e intenta resolver los siguientes ejercicios:\n",
    "\n",
    "\n",
    "Si la probabilidad de que un cliente pague en efectivo (E) es 6/15, con tarjeta de crédito (TD) es 7/15 y con tarjeta de débito (TD) es 2/15. Hallar la probabilidad de que dos clientes sucesivos que pagan sus cuentas lo hagan:"
   ]
  },
  {
   "cell_type": "markdown",
   "id": "d97950af",
   "metadata": {},
   "source": [
    "b) Los dos clientes en efectivo"
   ]
  },
  {
   "cell_type": "code",
   "execution_count": 47,
   "id": "35dbfe5e",
   "metadata": {},
   "outputs": [
    {
     "data": {
      "text/plain": [
       "0.16000000000000003"
      ]
     },
     "execution_count": 47,
     "metadata": {},
     "output_type": "execute_result"
    }
   ],
   "source": [
    "E=6/15\n",
    "P=E*E    #P(1er E y 2do E)\n",
    "P"
   ]
  },
  {
   "cell_type": "markdown",
   "id": "3ec4932c",
   "metadata": {},
   "source": [
    "La probabilidad de que un Henry repruebe el M1 de 0.8, de que apruebe M2 es 0.5 y de que repruebe el M3 es de 0.4.\n",
    "(Los eventos no interfieren entre si)\n"
   ]
  },
  {
   "cell_type": "markdown",
   "id": "ee5e0da0",
   "metadata": {},
   "source": [
    "Determinar la probabilidad de que:"
   ]
  },
  {
   "cell_type": "markdown",
   "id": "1acad0c8",
   "metadata": {},
   "source": [
    "a) Apruebe un módulo."
   ]
  },
  {
   "cell_type": "code",
   "execution_count": 62,
   "id": "513d88a6",
   "metadata": {},
   "outputs": [
    {
     "name": "stdout",
     "output_type": "stream",
     "text": [
      "0.04000000000000001 0.16000000000000003 0.24\n",
      "0.3600000000000001\n"
     ]
    }
   ],
   "source": [
    "M1A=0.2\n",
    "M1R=0.8\n",
    "M2A=0.5\n",
    "M2R=0.5\n",
    "M3A=0.6\n",
    "M3R=0.4\n",
    "             #RESULTADOS POSIBLES\n",
    "T1=M1A*M2R*M3R #(A,R,R) Verdadero\n",
    "T2=M1R*M2A*M3R #(R,A,R) Verdadero\n",
    "T3=M1R*M2R*M3A #(R,R,A) Verdadero\n",
    "print(T1,T2,T3)\n",
    "print(T1+T2+T2) #SE SUMAN LOS EVENTOS INDEPENDIENTES"
   ]
  },
  {
   "cell_type": "markdown",
   "id": "fe60106b",
   "metadata": {},
   "source": [
    "b) Repruebe las tres materias"
   ]
  },
  {
   "cell_type": "code",
   "execution_count": 63,
   "id": "ea97a4b1",
   "metadata": {},
   "outputs": [
    {
     "data": {
      "text/plain": [
       "0.16000000000000003"
      ]
     },
     "execution_count": 63,
     "metadata": {},
     "output_type": "execute_result"
    }
   ],
   "source": [
    "M1R=0.8\n",
    "M2R=0.5\n",
    "M3R=0.4\n",
    "TR=M1R*M2R*M3R\n",
    "TR"
   ]
  }
 ],
 "metadata": {
  "kernelspec": {
   "display_name": "Python 3.8.3 64-bit",
   "language": "python",
   "name": "python3"
  },
  "language_info": {
   "codemirror_mode": {
    "name": "ipython",
    "version": 3
   },
   "file_extension": ".py",
   "mimetype": "text/x-python",
   "name": "python",
   "nbconvert_exporter": "python",
   "pygments_lexer": "ipython3",
   "version": "3.8.3"
  },
  "vscode": {
   "interpreter": {
    "hash": "aee8b7b246df8f9039afb4144a1f6fd8d2ca17a180786b69acc140d282b71a49"
   }
  }
 },
 "nbformat": 4,
 "nbformat_minor": 5
}
