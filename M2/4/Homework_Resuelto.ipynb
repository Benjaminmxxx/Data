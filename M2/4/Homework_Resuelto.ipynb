{
 "cells": [
  {
   "cell_type": "code",
   "execution_count": 6,
   "metadata": {},
   "outputs": [],
   "source": [
    "from math import e, factorial\n",
    "from statistics import NormalDist"
   ]
  },
  {
   "cell_type": "code",
   "execution_count": 29,
   "metadata": {},
   "outputs": [],
   "source": [
    "#DISTRIBUCIÓN BINOMIAL\n",
    "def distribucion_binomial(k,n,p):\n",
    "  '''\n",
    "  k=número de exitos\n",
    "  n= espacio muestral\n",
    "  p= probabilidad de éxito \n",
    "  ''' \n",
    "  num_exitos = factorial(n) \n",
    "  num_eventos = factorial (k) * factorial(n-k) \n",
    "  exitos_fracaso = pow(p,k) * pow(1-p,(n-k)) \n",
    "\n",
    "  binomial = (num_exitos / num_eventos) * exitos_fracaso\n",
    "\n",
    "  return binomial"
   ]
  },
  {
   "cell_type": "code",
   "execution_count": 35,
   "metadata": {},
   "outputs": [],
   "source": [
    "#DISTRIBUCIÓN DE POISSON\n",
    "def probabilidad_poisson(lamba_np,x): #Intervalo de tiempo\n",
    "     '''\n",
    "     lamba_np= valor esperado o número de ocurrencías en un intervalo\n",
    "     x= ocurrencias a calcular en un intervalo \n",
    "     '''\n",
    "     probabilidad = (pow(e,-lamba_np) * pow(lamba_np,x))/factorial(x)\n",
    "     return probabilidad"
   ]
  },
  {
   "cell_type": "code",
   "execution_count": 15,
   "metadata": {},
   "outputs": [],
   "source": [
    "#DISTRIBUCIÓN HIPERGEOMÉTRICA\n",
    "def probabilidad_hipergeometrica(N,X,n,x):\n",
    "  '''\n",
    "  #N población\n",
    "  #X Casos exitos en la caja (lo que es posible) (r) (Cumplen con el criterio)\n",
    "  #n Muestra que se toma \n",
    "  #x Muestra que deseo obtener (Numero que repito el \"experimento\") (x)\n",
    "  '''\n",
    "  Xx = factorial(X)/(factorial(x)*factorial(X-x))\n",
    "  NX_nx= factorial(N-X)/(factorial(n-x)*factorial((N-X)-(n-x)))\n",
    "  Nn = factorial(N)/(factorial(n)*factorial(N-n))\n",
    "  hipergeometrica = (Xx * NX_nx)/Nn\n",
    "\n",
    "  return hipergeometrica"
   ]
  },
  {
   "cell_type": "markdown",
   "metadata": {},
   "source": [
    "### 1\n",
    ". Considera el experimento que consiste en un empleado que arma un producto.\n",
    "  - a. Defina la variable aleatoria que represente el tiempo en minutos requerido para armar el producto.<br>\n",
    "\n",
    "    #a. x = tiempo en minutos requerido para armar el producto\n",
    "\n",
    "  - b. ¿Qué valores toma la variable aleatoria?<br>\n",
    "\n",
    "    #b. Cualquier valor positivo: x > 0 == x >= 0  [(0,infinito)\n",
    "\n",
    "  - c. ¿Es una variable aleatoria discreta o continua?<br>\n",
    "\n",
    "    #c. Continua"
   ]
  },
  {
   "cell_type": "markdown",
   "metadata": {},
   "source": [
    "### 2\n",
    ". Considera el experimento que consiste en lanzar una moneda dos veces.\n",
    "  - a. Enumere los resultados experimentales."
   ]
  },
  {
   "cell_type": "code",
   "execution_count": 1,
   "metadata": {},
   "outputs": [],
   "source": [
    "H = \"cara\"\n",
    "T = \"cruz\"\n",
    "# 2**n = 2**2 = 4\n",
    "resultados = {  1:[H, H],\n",
    "                2:[H, T],\n",
    "                3:[T,H],\n",
    "                4:[T,T]}"
   ]
  },
  {
   "cell_type": "markdown",
   "metadata": {},
   "source": [
    "- b. Defina una variable aleatoria que represente el número de caras en los dos lanzamientos.\n",
    "\n",
    "        #b. x = cantidad de caras en dos lanzamientos => P(x=0)     "
   ]
  },
  {
   "cell_type": "markdown",
   "metadata": {},
   "source": [
    "  - c. Dé el valor que la variable aleatoria tomará en cada uno de los resultados experimentales."
   ]
  },
  {
   "cell_type": "code",
   "execution_count": 2,
   "metadata": {},
   "outputs": [],
   "source": [
    "#c.\n",
    "resultados = {  1:[[H, H], 2],#P(x=2) #si mi x es cantidad de caras de caras en dos lanzamientos\n",
    "                2:[[H, T], 1],#P(x=1) #tengo que contar las caras que salieron en los dos lanzamientos\n",
    "                3:[[T, H], 1],#P(x=1)\n",
    "                4:[[T, T], 0]}#P(x=0)"
   ]
  },
  {
   "cell_type": "markdown",
   "metadata": {},
   "source": [
    "d. ¿Es una variable aleatoria discreta o continua?\n",
    "\n",
    "    d.Discreta; puede tomar tres valores: 0, 1 y 2\n",
    "    DominioP = {0,1,2}\n",
    "    ImP = [0,1]"
   ]
  },
  {
   "cell_type": "markdown",
   "metadata": {},
   "source": [
    "### 3 \n",
    ". Considera las decisiones de compra de los próximos tres clientes que lleguen a la tienda de ropa Martin Clothing Store. De acuerdo con la experiencia, el gerente de la tienda estima que la probabilidad de que un cliente realice una compra es 0.30. \n",
    "  - a. Describa si cumple con las reglas para clasificarlo como un experimiento binomial.\n",
    "\n",
    "1. Es posible describir el experimento como una serie de tres ensayos idénticos, \n",
    "un ensayo por cada uno de los tres clientes que llegan a la tienda.\n",
    "2. Cada ensayo tiene dos posibles resultados: el cliente hace una compra (éxito) o el cliente \n",
    "no hace ninguna compra (fracaso)\n",
    "3. La probabilidad de que el cliente haga una compra (0.30) o de que no haga una \n",
    "compra (0.70) se supone que es la misma para todos los clientes.\n",
    "4. La decisión de comprar de cada cliente es independiente de la decisión de \n",
    "comprar de los otros clientes.\n"
   ]
  },
  {
   "cell_type": "markdown",
   "metadata": {},
   "source": [
    "  - b. ¿Cuál es la probabilidad de que dos de los próximos tres clientes realicen una compra?"
   ]
  },
  {
   "cell_type": "code",
   "execution_count": 21,
   "metadata": {},
   "outputs": [
    {
     "data": {
      "text/plain": [
       "0.189"
      ]
     },
     "execution_count": 21,
     "metadata": {},
     "output_type": "execute_result"
    }
   ],
   "source": [
    "#DISTRIBUCIÓN BINOMIAL\n",
    "distribucion_binomial(2,3,0.3)"
   ]
  },
  {
   "cell_type": "markdown",
   "metadata": {},
   "source": [
    "  - c. ¿Cuál es la probabilidad de que cuatro de los próximos diez clientes realicen una compra?"
   ]
  },
  {
   "cell_type": "code",
   "execution_count": 22,
   "metadata": {},
   "outputs": [
    {
     "data": {
      "text/plain": [
       "0.20012094899999994"
      ]
     },
     "execution_count": 22,
     "metadata": {},
     "output_type": "execute_result"
    }
   ],
   "source": [
    "#DISTRIBUCIÓN BINOMIAL\n",
    "distribucion_binomial(4,10,0.3)"
   ]
  },
  {
   "cell_type": "markdown",
   "metadata": {},
   "source": [
    "### 4 \n",
    ".A la oficina de reservaciones de una aerolínea regional llegan 48 llamadas por hora."
   ]
  },
  {
   "cell_type": "markdown",
   "metadata": {},
   "source": [
    "- a. Calcule la probabilidad de recibir cinco llamadas en un lapso de 5 minutos."
   ]
  },
  {
   "cell_type": "code",
   "execution_count": 13,
   "metadata": {},
   "outputs": [
    {
     "name": "stdout",
     "output_type": "stream",
     "text": [
      "0.15629345185053173\n"
     ]
    }
   ],
   "source": [
    "#DISTRIBUCIÓN DE POISSON\n",
    "#48 llamadas en 60 min (1 hora)\n",
    "#Entonces en 5 minutos (regla 3): (5*48)/60= 4\n",
    "#Entonces lambda_np: 4 porque es la cantidad de llamadas en ese intervalo de tiempo (5 min)\n",
    "#Y x es la la cantidad de llamadas que nos pedin (5)\n",
    "print(probabilidad_poisson(4, 5))"
   ]
  },
  {
   "cell_type": "markdown",
   "metadata": {},
   "source": [
    "- b. Estime la probabilidad de recibir exactamente 10 llamadas en un lapso de 15 minutos."
   ]
  },
  {
   "cell_type": "code",
   "execution_count": 14,
   "metadata": {},
   "outputs": [
    {
     "name": "stdout",
     "output_type": "stream",
     "text": [
      "0.1048372558836594\n"
     ]
    }
   ],
   "source": [
    "#DISTRIBUCIÓN DE POISSON\n",
    "#Para el valor esperado sería: (15*48)/60= 12\n",
    "print(probabilidad_poisson(12, 10))"
   ]
  },
  {
   "cell_type": "markdown",
   "metadata": {},
   "source": [
    "- c. Suponga que no hay ninguna llamada en espera. Si el agente de viajes necesitará 5 minutos para la llamada que está atendiendo, ¿cuántas llamadas habrá en espera para cuando él termine? ¿Cuál es la probabilidad de que no haya ninguna llamada en espera?"
   ]
  },
  {
   "cell_type": "code",
   "execution_count": 17,
   "metadata": {},
   "outputs": [
    {
     "name": "stdout",
     "output_type": "stream",
     "text": [
      "0.018315638888734186\n"
     ]
    }
   ],
   "source": [
    "#DISTRIBUCIÓN DE POISSON\n",
    "\n",
    "#48 llamadas en 60 min (1 hora)\n",
    "#Entonces en 5 minutos (regla 3): (5*48)/60= 4\n",
    "#Tendrían que haber entrado 4 llamadas (1 cada 48 segundos)\n",
    "\n",
    "\n",
    "#Ninguna llamada en espera \n",
    "print(probabilidad_poisson(4, 0))"
   ]
  },
  {
   "cell_type": "markdown",
   "metadata": {},
   "source": [
    "- d. Si en este momento no hay ninguna llamada, ¿cuál es la probabilidad de que el agente de viajes pueda tomar 3 minutos de descanso sin ser interrumpido por una llamada?"
   ]
  },
  {
   "cell_type": "code",
   "execution_count": 18,
   "metadata": {},
   "outputs": [
    {
     "name": "stdout",
     "output_type": "stream",
     "text": [
      "0.09071795328941253\n",
      "La probabilidad de que pueda descansar (no entren llamadas) es de 9.07 %\n"
     ]
    }
   ],
   "source": [
    "#DISTRIBUCIÓN DE POISSON\n",
    "\n",
    "# lambda: 48/60= 0.8 => 0.8 * 3 = 2.4\n",
    "\n",
    "print(probabilidad_poisson(2.4, 0))\n",
    "print(f'La probabilidad de que pueda descansar (no entren llamadas) es de {round(probabilidad_poisson(2.4, 0) * 100,2)} %')"
   ]
  },
  {
   "cell_type": "markdown",
   "metadata": {},
   "source": [
    "### 5. \n",
    "En una encuesta realizada por Gallup Organization, se les preguntó a los interrogados, “Cuál es el deporte que prefieres ver”. Futbol y básquetbol ocuparon el primero y segundo lugar de preferencia (www.gallup.com, 3 de enero de 2004). Si en un grupo de 10 individuos, siete prefieren futbol y tres prefieren básquetbol."
   ]
  },
  {
   "cell_type": "markdown",
   "metadata": {},
   "source": [
    "- a.  Se toma una muestra aleatoria de tres de estas personas. ¿Cuál es la probabilidad de que exactamente dos prefieren el futbol?"
   ]
  },
  {
   "cell_type": "code",
   "execution_count": 7,
   "metadata": {},
   "outputs": [
    {
     "data": {
      "text/plain": [
       "0.525"
      ]
     },
     "execution_count": 7,
     "metadata": {},
     "output_type": "execute_result"
    }
   ],
   "source": [
    "#DISTRIBUCIÓN HIPERGEOMÉTRICA\n",
    "#N=10, X=7,n=3, x=2\n",
    "probabilidad_hipergeometrica(10,7,3,2)"
   ]
  },
  {
   "cell_type": "markdown",
   "metadata": {},
   "source": [
    "- b. ¿De que la mayoría (ya sean dos o tres) prefiere el futbol?"
   ]
  },
  {
   "cell_type": "code",
   "execution_count": 19,
   "metadata": {},
   "outputs": [
    {
     "name": "stdout",
     "output_type": "stream",
     "text": [
      "0.8166666666666667\n",
      "0.8166666666666667\n"
     ]
    }
   ],
   "source": [
    "#DISTRIBUCIÓN HIPERGEOMÉTRICA\n",
    "\n",
    "#FORMA 1:\n",
    "print(probabilidad_hipergeometrica(10,7,3,2)+probabilidad_hipergeometrica(10,7,3,3))\n",
    "#FORMA 2:\n",
    "prob_0 = probabilidad_hipergeometrica(10,7,3,0) #CERO DE BSK\n",
    "prob_1 = probabilidad_hipergeometrica(10,7,3,1) #UNO DE BSK\n",
    "print(1-prob_1-prob_0) #RESTAR ESAS AL TOTAL DE LA PROB "
   ]
  },
  {
   "cell_type": "markdown",
   "metadata": {},
   "source": [
    "### 6\n",
    " \n",
    "La probabilidad de que a un estudiante le guste este modulo es de 0.7 (en Henry somos optimistas), cual es la probabilidad de que les guste este módulo a 6 de los 10 estudiantes.<br>"
   ]
  },
  {
   "cell_type": "code",
   "execution_count": 26,
   "metadata": {},
   "outputs": [
    {
     "data": {
      "text/plain": [
       "0.20012094900000005"
      ]
     },
     "execution_count": 26,
     "metadata": {},
     "output_type": "execute_result"
    }
   ],
   "source": [
    "#DISTRIBUCIÓN BINOMIAL\n",
    "distribucion_binomial(6,10,0.7)"
   ]
  },
  {
   "cell_type": "markdown",
   "metadata": {},
   "source": [
    "### 7\n",
    "De todos los push a Git en un Henry Challenge, el 90% lo envía a término. Si se envían 9 ¿cuál es la probabilidad de que 7 lleguen a término?.<br>"
   ]
  },
  {
   "cell_type": "code",
   "execution_count": 27,
   "metadata": {},
   "outputs": [
    {
     "data": {
      "text/plain": [
       "0.17218688399999993"
      ]
     },
     "execution_count": 27,
     "metadata": {},
     "output_type": "execute_result"
    }
   ],
   "source": [
    "#DISTRIBUCIÓN BINOMIAL\n",
    "distribucion_binomial(7,9,0.9)"
   ]
  },
  {
   "cell_type": "markdown",
   "metadata": {},
   "source": [
    "### 8\n",
    "\n",
    "\n",
    "En relación con el enunciado anterior cálcule la probabilidad de que 7 o más lleguen a término.<br>"
   ]
  },
  {
   "cell_type": "code",
   "execution_count": 31,
   "metadata": {},
   "outputs": [
    {
     "name": "stdout",
     "output_type": "stream",
     "text": [
      "0.9470278620000001\n"
     ]
    }
   ],
   "source": [
    "# Aplicamos la función binomial y sumamos probabilidades para 7,8 y 9 casos probables\n",
    "print(  distribucion_binomial(7,9,0.9)\n",
    "        +distribucion_binomial(8,9,0.9)\n",
    "        +distribucion_binomial(9,9,0.9))"
   ]
  },
  {
   "cell_type": "markdown",
   "metadata": {},
   "source": [
    "### 9\n",
    "\n",
    "\n",
    "La cantidad de alumnos promedio que se ausentan en un día de clases en la carrera de Data Science es de 10. Calcular cual es la probabilidad de que se ausenten 7 alumnos.<br>"
   ]
  },
  {
   "cell_type": "code",
   "execution_count": 32,
   "metadata": {},
   "outputs": [
    {
     "data": {
      "text/plain": [
       "0.09007922571921602"
      ]
     },
     "execution_count": 32,
     "metadata": {},
     "output_type": "execute_result"
    }
   ],
   "source": [
    "#Poissson \n",
    "\n",
    "probabilidad_poisson(10,7)"
   ]
  },
  {
   "cell_type": "markdown",
   "metadata": {},
   "source": [
    "### 10\n",
    "\n",
    "\n",
    "Cuando inicia una clase, los estudiantes ingresan a un ritmo de 5 estudiantes por minuto. Calcular cual es la probabilidad de que ingresen 7 estudiantes por minuto.<br>"
   ]
  },
  {
   "cell_type": "code",
   "execution_count": 34,
   "metadata": {},
   "outputs": [
    {
     "data": {
      "text/plain": [
       "0.10444486295705402"
      ]
     },
     "execution_count": 34,
     "metadata": {},
     "output_type": "execute_result"
    }
   ],
   "source": [
    "#Poissson \n",
    "probabilidad_poisson(5,7)"
   ]
  },
  {
   "cell_type": "markdown",
   "metadata": {},
   "source": [
    "### 11\n",
    "\n",
    "Cada 3 días ingresan 10 estudiantes nuevos al Prep Course de Henry, calcule la probabilidad de que ingresen 15 nuevos estudiantes en un período de 6 días.<br>"
   ]
  },
  {
   "cell_type": "code",
   "execution_count": 39,
   "metadata": {},
   "outputs": [
    {
     "data": {
      "text/plain": [
       "0.0516488535317584"
      ]
     },
     "execution_count": 39,
     "metadata": {},
     "output_type": "execute_result"
    }
   ],
   "source": [
    "#Poisson\n",
    "#Si cada 3 días entran 10, entonces al día 10/3=3.3 \n",
    "#Así pues en 6 días entrarían 6*(10/3)= 20\n",
    "probabilidad_poisson(20,15)"
   ]
  },
  {
   "cell_type": "markdown",
   "metadata": {},
   "source": [
    "### 12\n",
    "\n",
    "En una distribución de Poisson de lamba_np=3, cual es la probabilidad de x>=1.<br>"
   ]
  },
  {
   "cell_type": "code",
   "execution_count": 41,
   "metadata": {},
   "outputs": [
    {
     "name": "stdout",
     "output_type": "stream",
     "text": [
      "0.950212931632136\n"
     ]
    }
   ],
   "source": [
    "#Aplicamos la función poisson para un p(0). \n",
    "# La condición de cierre siempre es 1 por lo que p(x>=1)=1-p(0).\n",
    "print(1-probabilidad_poisson(3,0))"
   ]
  },
  {
   "cell_type": "markdown",
   "metadata": {},
   "source": [
    "### 13\n",
    "Distribución Normal:<br>\n",
    "La calificación promedio de los estudiantes de Henry es de 78 con una desviación estandar de 25. Cual es la probabilidad de tener estudiantes con calificaciones mayores o iguales 90."
   ]
  },
  {
   "cell_type": "code",
   "execution_count": 45,
   "metadata": {},
   "outputs": [
    {
     "data": {
      "text/plain": [
       "0.48"
      ]
     },
     "execution_count": 45,
     "metadata": {},
     "output_type": "execute_result"
    }
   ],
   "source": [
    "x=90\n",
    "miu=78\n",
    "sigma=25\n",
    "\n",
    "z= (x-miu)/sigma #NORMALIZACIÓN\n",
    "z\n",
    "#0.3156 DE LA TABLA DE DISTRIBUCIÓN "
   ]
  }
 ],
 "metadata": {
  "kernelspec": {
   "display_name": "Python 3.8.3 64-bit",
   "language": "python",
   "name": "python3"
  },
  "language_info": {
   "codemirror_mode": {
    "name": "ipython",
    "version": 3
   },
   "file_extension": ".py",
   "mimetype": "text/x-python",
   "name": "python",
   "nbconvert_exporter": "python",
   "pygments_lexer": "ipython3",
   "version": "3.8.3"
  },
  "orig_nbformat": 4,
  "vscode": {
   "interpreter": {
    "hash": "aee8b7b246df8f9039afb4144a1f6fd8d2ca17a180786b69acc140d282b71a49"
   }
  }
 },
 "nbformat": 4,
 "nbformat_minor": 2
}
